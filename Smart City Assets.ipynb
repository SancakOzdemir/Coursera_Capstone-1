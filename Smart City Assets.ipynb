{
    "nbformat_minor": 1, 
    "cells": [
        {
            "source": "# Segmenting and Clustering Smart Cities", 
            "cell_type": "markdown", 
            "metadata": {
                "collapsed": true
            }
        }, 
        {
            "source": "## Introduction\n\nCity governments across the world are devising innovative ways to best serve citizens increasingly through smart city applications. How governments can innovate may often depend on its physical assets\u2014 places of recreation, nature, entertainment, eateries, transportation hubs, and so on. Some governments have access to a greater number and diversity of assets than others, which impacts what they can do to become more liveable, loveable, and smarter cities. For example, coffee shops oftentimes are a source of paid, sponsored, or free Wi-Fi. The lack of coffee shops may therefore indicate that a city government should direct funding and attention to establishing public Wi-Fi networks.\n\nAs a small contribution to the smart city discourse, I will venture to shed light on the combination and scale of assets required to scale up smart city initiatives and programmes. Possible insights may include: which cities have the greatest potential to scale up smart city initiatives by virtue of their combined assets; what are the various pathways to becoming a smart city; which type of assets contribute most to the development of a strong smart city; and so on. City governments can then devise effective mechanisms to stimulate the creation of meaningful assets, in the form of grants, incentives, regulation, programs, platforms, and exchanges.", 
            "cell_type": "markdown", 
            "metadata": {}
        }, 
        {
            "source": "## Data\n[Eden Strategy Institute](https://www.edenstrategyinstitute.com) ranked Smart City governments in their [Top 50 Smart City Governments](https://www.smartcitygovt.com/) report, which assessed readiness based on such government features as vision, organizational structure, budget, and so on. From these features, over 140 cities were ranked, of which the top 50 received a closer investigation of their innerworkings.\n\nWith this as a backdrop, I will be using data obtained via Foursquare as my primary source of differentiating the assets between cities. As Foursquare is most popular in the United States, I will focus my modelling on the U.S. cities that were ranked. Thus the U.S. cities that will be compared are:\n\n* New York\n* Boston\n* San Francisco\n* Chicago\n* Seattle\n* Charlotte\n* Washington D.C.\n* Columbus\n* Los Angeles\n* Atlanta\n* Kansas City\n* Philadelphia\n* Baltimore\n* Dallas\n* Houston\n* Miami\n* Phoenix\n* Portland\n* San Antonio\n\n### Foursquare dataset\nThe Foursquare data itself will comprise a diversity of venues such as those mentioned as physical assets in the Introduction, including the venue name, venue category, average ratings, and location.\n\n### Other datasets\nOther data will include city population, density, and economy size.\n* http://worldpopulationreview.com/us-cities/\n* https://en.wikipedia.org/wiki/List_of_U.S._metropolitan_areas_by_GDP\n\nPopulation and density will help us place the number and quality of venues into perspective; the number of venues in New York to that of Columbus would not be a good comparison, for example. Hence, we must understand the coverage and saturation of venues in relation to the populations they serve.\n\nEconomy size has a similar role as population and density, in terms of gaining insight into the kinds of venues available given the resources available to the city. For example, a less economically prosperous city may have more parks than a more prosperous city all other factors held constant.", 
            "cell_type": "markdown", 
            "metadata": {}
        }
    ], 
    "metadata": {
        "kernelspec": {
            "display_name": "Python 3.5", 
            "name": "python3", 
            "language": "python"
        }, 
        "language_info": {
            "mimetype": "text/x-python", 
            "nbconvert_exporter": "python", 
            "version": "3.5.5", 
            "name": "python", 
            "file_extension": ".py", 
            "pygments_lexer": "ipython3", 
            "codemirror_mode": {
                "version": 3, 
                "name": "ipython"
            }
        }
    }, 
    "nbformat": 4
}